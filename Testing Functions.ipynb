{
 "cells": [
  {
   "cell_type": "code",
   "execution_count": 5,
   "metadata": {
    "collapsed": true
   },
   "outputs": [],
   "source": [
    "import numpy as np\n",
    "import scipy as sc\n",
    "import scipy.linalg as scl\n",
    "from dncon import dncon\n",
    "import matplotlib.pyplot as plt"
   ]
  },
  {
   "cell_type": "markdown",
   "metadata": {},
   "source": [
    "# ncon (Contract diagram)\n",
    "\n",
    "Given a number of tensors connected in a diagram, specify the legs of each tensor with a label and output the contraction of the diagram.\n",
    "The labeling is done as 1,2,3,... for the connected legs that are going to be contracted and in the order of contraction. The open legs are labeled as -1, -2, -3, ..., representing the order in which they will be represented in the output tensor."
   ]
  },
  {
   "cell_type": "code",
   "execution_count": 7,
   "metadata": {
    "collapsed": true
   },
   "outputs": [],
   "source": [
    "def ncon(tensorlist,labellist):\n",
    "    maxlabel = max(max(labellist)) \n",
    "    label = 1\n",
    "\n",
    "    while label <= maxlabel:\n",
    "        tensor1_found = False\n",
    "        tensor2_found = False\n",
    "        #Find the tensors that have the label for the leg that is going to be contracted next\n",
    "        for ten_ind in range(len(labellist)):\n",
    "            for i in range(len(labellist[ten_ind])):\n",
    "                if labellist[ten_ind][i] == label:\n",
    "                    #if a leg connect a tensor with itself, tensor1 and tensor2 are the same\n",
    "                    if labellist[ten_ind].count(label) == 2:\n",
    "                        labels = [label]\n",
    "                        tensor1 = tensorlist[ten_ind]\n",
    "                        tensor1_number = ten_ind\n",
    "                        tensor1_index_con = [i]\n",
    "                        tensor1_found = True\n",
    "                        for j in range(i+1,len(labellist[ten_ind])):\n",
    "                            if labellist[ten_ind][j] == label:\n",
    "                                tensor2 = tensorlist[ten_ind]\n",
    "                                tensor2_number = ten_ind\n",
    "                                tensor2_index_con = [j]\n",
    "                                tensor2_found = True\n",
    "                                break\n",
    "                        break\n",
    "                    #if the labels connect different tensors, tensor1 and tensor2 are not the same\n",
    "                    else:\n",
    "                        if not tensor1_found:\n",
    "                            tensor1 = tensorlist[ten_ind]\n",
    "                            tensor1_number = ten_ind\n",
    "                            tensor1_index_con = [i]\n",
    "                            tensor1_found = True\n",
    "                        else:\n",
    "                            tensor2 = tensorlist[ten_ind]\n",
    "                            tensor2_number = ten_ind\n",
    "                            tensor2_index_con = [i]\n",
    "                            tensor2_found = True\n",
    "                        labels = [label]\n",
    "                        #look if next label to contract is in the two chosen tensors, if it is, add it to the labels to contract\n",
    "                        #keep looking until the condition is not met\n",
    "                        look_for_more_contrac = True\n",
    "                        while look_for_more_contrac and tensor2_found:\n",
    "                            if label+1 in labellist[tensor1_number] and label+1 in labellist[tensor2_number]:\n",
    "                                tensor1_index_con.append(labellist[tensor1_number].index(label+1))\n",
    "                                tensor2_index_con.append(labellist[tensor2_number].index(label+1))\n",
    "                                labels.append(label+1)\n",
    "                                label += 1\n",
    "                            else:\n",
    "                                look_for_more_contrac = False\n",
    "                        if tensor2_found:\n",
    "                            break\n",
    "            if tensor2_found:\n",
    "                break\n",
    "        \n",
    "        #contract the two tensors in the indexes found if they are not the same tensor\n",
    "        if tensor1_number != tensor2_number:\n",
    "            tensor_contraction = np.tensordot(tensor1,tensor2,axes=(tensor1_index_con,tensor2_index_con))\n",
    "            #update tensorlist so that the two just contracted tensors do not appear anymore\n",
    "            tensorlist = tensorlist[:tensor1_number] + tensorlist[tensor1_number+1:tensor2_number] + tensorlist[tensor2_number+1:]\n",
    "            \n",
    "        #perfom a trace over the given indices if the labels belonged to the same tensor\n",
    "        else:\n",
    "            tensor_contraction = np.trace(tensor1,axis1=tensor1_index_con[0],axis2=tensor2_index_con[0])\n",
    "            #update tensorlist so that the tensor does not appear anymore (traced version to be added back soon)\n",
    "            tensorlist = tensorlist[:tensor1_number] + tensorlist[tensor1_number+1:]\n",
    "            \n",
    "        #construct the leg labels for the new tensor resulting from the contraction\n",
    "        A = []\n",
    "        for lab in labellist[tensor1_number]:\n",
    "            if lab not in labels:\n",
    "                A.append(lab)        \n",
    "        labellist[tensor1_number] = A[:]\n",
    "        if tensor1_number != tensor2_number:\n",
    "            B = []\n",
    "            for lab in labellist[tensor2_number]:\n",
    "                if lab not in labels:\n",
    "                    B.append(lab) \n",
    "            labellist[tensor2_number] = B[:]\n",
    "        \n",
    "            new_tensor_labels = labellist[tensor1_number] + labellist[tensor2_number]            \n",
    "            labellist = labellist[:tensor1_number] + labellist[tensor1_number+1:tensor2_number] + labellist[tensor2_number+1:]\n",
    "\n",
    "            \n",
    "        else:\n",
    "            new_tensor_labels = labellist[tensor1_number]\n",
    "            labellist = labellist[:tensor1_number] + labellist[tensor1_number+1:]\n",
    "\n",
    "        #add the resulting tensor and its labels to the begining of tensorlist and labellist\n",
    "        tensorlist.insert(0, tensor_contraction)\n",
    "        labellist.insert(0, new_tensor_labels)\n",
    "        \n",
    "        label += 1\n",
    "    \n",
    "    contracted_tensor = tensorlist[0]\n",
    "    indices = labellist[0]\n",
    "    \n",
    "    #order the tensor indices so that they appear according to the -1,-2-3,... order\n",
    "    indices = [-i for i in indices]\n",
    "    \n",
    "    open_leg_order = []\n",
    "    for i in range(1,len(indices)+1):\n",
    "        for j in range(len(indices)):\n",
    "            if i == indices[j]:\n",
    "                open_leg_order.append(j)\n",
    "    \n",
    "    contracted_tensor = np.transpose(contracted_tensor,open_leg_order)\n",
    "        \n",
    "    return contracted_tensor\n",
    "        \n",
    "        "
   ]
  },
  {
   "cell_type": "code",
   "execution_count": 11,
   "metadata": {},
   "outputs": [
    {
     "name": "stdout",
     "output_type": "stream",
     "text": [
      "3153.76991647 3153.76991647\n"
     ]
    }
   ],
   "source": [
    "A = np.random.random([6,6,6])\n",
    "B = np.random.random([6,6,6])\n",
    "C = np.random.random([6,6,6])\n",
    "D = np.random.random([6,6,6])\n",
    "F = ncon([A,B,C,D],[[4,1,5],[1,3,6],[5,3,2],[6,4,2]])\n",
    "G = dncon([A,B,C,D],[[4,1,5],[1,3,6],[5,3,2],[6,4,2]])\n",
    "print F, G"
   ]
  },
  {
   "cell_type": "code",
   "execution_count": 12,
   "metadata": {},
   "outputs": [
    {
     "name": "stdout",
     "output_type": "stream",
     "text": [
      "(4, 2, 4, 2)\n"
     ]
    }
   ],
   "source": [
    "C = np.random.random([4,4])\n",
    "T = np.random.random([4,4,2])\n",
    "a = np.random.random([2,2,2,2])\n",
    "B = ncon([C, T, T, a],[[1,2], [1,-1,3], [2,-3,4], [-2,3,4,-4]])\n",
    "print(B.shape)"
   ]
  },
  {
   "cell_type": "code",
   "execution_count": 13,
   "metadata": {},
   "outputs": [
    {
     "name": "stdout",
     "output_type": "stream",
     "text": [
      "12.6284158751\n"
     ]
    }
   ],
   "source": [
    "A = np.random.random([5,6])\n",
    "B = np.random.random([2,5])\n",
    "C = np.random.random([2,7])\n",
    "D = np.random.random([6,7])\n",
    "F = ncon([A,B,C,D],[[1,3],[4,1],[4,2],[3,2]])\n",
    "print F"
   ]
  },
  {
   "cell_type": "markdown",
   "metadata": {},
   "source": [
    "# tensorsvd\n",
    "\n",
    "Routine for doing an SVD on a tensor by first permuting and reshaping into a matrix, then doing an SVD of this matrix with or without truncation and then reshaping back into tensors U, s, V"
   ]
  },
  {
   "cell_type": "code",
   "execution_count": 8,
   "metadata": {
    "collapsed": true
   },
   "outputs": [],
   "source": [
    "def tensorsvd(T_input,leftlegs,rightlegs,D='infinity'):\n",
    "    T = np.transpose(T_input,leftlegs+rightlegs)\n",
    "    xsize = 1\n",
    "    leftsize_register = []\n",
    "    for i in range(len(leftlegs)):\n",
    "        xsize *= T.shape[i]\n",
    "        leftsize_register.append(T.shape[i])\n",
    "    ysize = 1\n",
    "    rightsize_register = []\n",
    "    for i in range(len(leftlegs),len(leftlegs)+len(rightlegs)):\n",
    "        ysize *= T.shape[i]\n",
    "        rightsize_register.append(T.shape[i])\n",
    "    T = np.reshape(T,(xsize,ysize))\n",
    "    \n",
    "    U, s, V = np.linalg.svd(T,full_matrices = False)\n",
    "    \n",
    "    if D != 'infinity' and D < len(s):\n",
    "        s = np.diag(s[:D])\n",
    "        U = U[:,:D]\n",
    "        V = V[:D,:]\n",
    "    else:\n",
    "        D = len(s)\n",
    "        s = np.diag(s)\n",
    "        \n",
    "    U = np.reshape(U,leftsize_register+[D])\n",
    "    V = np.reshape(V,[D]+rightsize_register)\n",
    "        \n",
    "        \n",
    "    return U, s, V"
   ]
  },
  {
   "cell_type": "code",
   "execution_count": 15,
   "metadata": {
    "collapsed": true
   },
   "outputs": [],
   "source": [
    "A = np.random.random([3,4,5,8,4])\n",
    "\n",
    "U, s, V = tensorsvd(A,[0,1,4],[2,3],D=10)"
   ]
  },
  {
   "cell_type": "code",
   "execution_count": 16,
   "metadata": {},
   "outputs": [
    {
     "name": "stdout",
     "output_type": "stream",
     "text": [
      "(3, 4, 4, 10)\n",
      "(10, 10)\n",
      "(10, 5, 8)\n"
     ]
    }
   ],
   "source": [
    "print U.shape\n",
    "print s.shape\n",
    "print V.shape"
   ]
  },
  {
   "cell_type": "code",
   "execution_count": 17,
   "metadata": {
    "collapsed": true
   },
   "outputs": [],
   "source": [
    "A_new = ncon([U,s,V],[[-1,-2,-5,1],[1,2],[2,-3,-4]])"
   ]
  },
  {
   "cell_type": "code",
   "execution_count": 18,
   "metadata": {},
   "outputs": [
    {
     "name": "stdout",
     "output_type": "stream",
     "text": [
      "(3, 4, 5, 8, 4)\n",
      "(3, 4, 5, 8, 4)\n"
     ]
    }
   ],
   "source": [
    "print A.shape\n",
    "print A_new.shape"
   ]
  },
  {
   "cell_type": "markdown",
   "metadata": {
    "collapsed": true
   },
   "source": [
    "# isingtpf2d (ising tensor partition fucntion 2D)"
   ]
  },
  {
   "cell_type": "code",
   "execution_count": 5,
   "metadata": {},
   "outputs": [
    {
     "name": "stdout",
     "output_type": "stream",
     "text": [
      "(2, 2, 2, 2)\n",
      "[[[[ 7.3582562   0.50187525]\n",
      "   [ 0.50187525  0.06766775]]\n",
      "\n",
      "  [[ 0.50187525  0.06766775]\n",
      "   [ 0.06766775  0.49813102]]]\n",
      "\n",
      "\n",
      " [[[ 0.50187525  0.06766775]\n",
      "   [ 0.06766775  0.49813102]]\n",
      "\n",
      "  [[ 0.06766775  0.49813102]\n",
      "   [ 0.49813102  7.28470523]]]]\n"
     ]
    }
   ],
   "source": [
    "def isingtpf2d(beta,h):\n",
    "    H_local = np.array([[-1.-h/2,1.],[1.,-1.+h/2]]) #h is intended to be a small magnetic field to break symmetry\n",
    "    Q = np.exp(-beta*H_local)\n",
    "    \n",
    "    delta = np.zeros((2,2,2,2))\n",
    "    delta[0,0,0,0] = 1.\n",
    "    delta[1,1,1,1] = 1.\n",
    "\n",
    "    Qsr = scl.sqrtm(Q)\n",
    "\n",
    "    a = ncon([delta,Qsr,Qsr,Qsr,Qsr],[[1,2,3,4],[-1,1],[-2,2],[3,-3],[4,-4]])\n",
    "    \n",
    "    return a\n",
    "\n",
    "a = isingtpf2d(1,0.005)\n",
    "print a.shape\n",
    "print a"
   ]
  },
  {
   "cell_type": "code",
   "execution_count": 20,
   "metadata": {
    "collapsed": true
   },
   "outputs": [],
   "source": [
    "def contraction_y(T,M,D='infinity'):\n",
    "    '''\n",
    "    Contraction of two rank 4 tensors along the vertical axis where T lies above M\n",
    "    Outputs a rank 4 tensor obtained after contracting and performing HOSVD\n",
    "    '''\n",
    "    TM = ncon([T,M],[[-2,-3,-4,1],[-1,1,-5,-6]])\n",
    "    U, s, V = tensorsvd(TM,[0,1],[2,3,4,5],D)\n",
    "    \n",
    "    TMsvd = ncon([U,TM,U],[[1,2,-1],[1,2,-2,3,4,-4],[3,4,-3]])   \n",
    "    \n",
    "    TMsvd = TMsvd/np.max(TMsvd) #divides over largest value in the tensor\n",
    "        \n",
    "    return TMsvd\n",
    "    \n",
    "def contraction_x(T,M,D='infinity'):\n",
    "    '''\n",
    "    Contraction of two rank 4 tensors along the horizontal axis where T lies left of M\n",
    "    Outputs a rank 4 tensor obtained after contracting and performing HOSVD\n",
    "    '''\n",
    "    TM = ncon([T,M],[[-1,-2,1,-6],[1,-3,-4,-5]])\n",
    "    U, s, V = tensorsvd(TM,[1,2],[0,3,4,5],D)\n",
    "\n",
    "    TMsvd = ncon([U,TM,U],[[1,2,-2],[-1,1,2,-3,4,3],[3,4,-4]])   \n",
    "    \n",
    "    TMsvd = TMsvd/np.max(TMsvd) #divides over largest value in the tensor\n",
    "        \n",
    "    return TMsvd"
   ]
  },
  {
   "cell_type": "code",
   "execution_count": 21,
   "metadata": {},
   "outputs": [
    {
     "name": "stdout",
     "output_type": "stream",
     "text": [
      "(4, 2, 4, 2)\n",
      "(2, 4, 2, 4)\n"
     ]
    }
   ],
   "source": [
    "print contraction_y(a,a).shape\n",
    "print contraction_x(a,a).shape"
   ]
  },
  {
   "cell_type": "code",
   "execution_count": 22,
   "metadata": {
    "collapsed": true
   },
   "outputs": [],
   "source": [
    "a_ycont = contraction_y(a,a)\n",
    "\n",
    "a_cont = contraction_x(a_ycont,a_ycont)"
   ]
  },
  {
   "cell_type": "code",
   "execution_count": 22,
   "metadata": {
    "collapsed": true
   },
   "outputs": [],
   "source": [
    "def coarse_graining_step(b,a,D='infinity'):\n",
    "    \n",
    "    A = ncon([a,a],[[-2,-3,-4,1],[-1,1,-5,-6]])\n",
    "    U, s, V = tensorsvd(A,[0,1],[2,3,4,5],D)    \n",
    "    A = ncon([U,A,U],[[1,2,-1],[1,2,-2,3,4,-4],[3,4,-3]])\n",
    "    \n",
    "    B = ncon([b,a],[[-2,-3,-4,1],[-1,1,-5,-6]])    \n",
    "    B = ncon([U,B,U],[[1,2,-1],[1,2,-2,3,4,-4],[3,4,-3]])\n",
    "    \n",
    "    AA = ncon([A,A],[[-1,-2,1,-6],[1,-3,-4,-5]])\n",
    "    U, s, V = tensorsvd(AA,[1,2],[0,3,4,5],D)  \n",
    "    AA = ncon([U,AA,U],[[1,2,-2],[-1,1,2,-3,4,3],[3,4,-4]])  \n",
    "    \n",
    "    BA = ncon([B,A],[[-1,-2,1,-6],[1,-3,-4,-5]])\n",
    "    BA = ncon([U,BA,U],[[1,2,-2],[-1,1,2,-3,4,3],[3,4,-4]])  \n",
    "    \n",
    "    BA = BA/np.max(AA) #divides over largest value in the tensor\n",
    "    AA = AA/np.max(AA)\n",
    "        \n",
    "    return BA, AA\n"
   ]
  },
  {
   "cell_type": "code",
   "execution_count": 96,
   "metadata": {},
   "outputs": [
    {
     "name": "stdout",
     "output_type": "stream",
     "text": [
      "1.00000124279\n",
      "1.00000124279\n"
     ]
    }
   ],
   "source": [
    "print ncon([a,a,a,a],[[7,5,3,1],[3,6,7,2],[8,1,4,5],[4,2,8,6]])\n",
    "print dncon([a,a,a,a],[[7,5,3,1],[3,6,7,2],[8,1,4,5],[4,2,8,6]])"
   ]
  },
  {
   "cell_type": "code",
   "execution_count": 9,
   "metadata": {
    "collapsed": true
   },
   "outputs": [],
   "source": [
    "def isings2d(beta,h):\n",
    "    H_local = np.array([[-1.-h/2,1.],[1.,-1.+h/2]])\n",
    "    Q = np.exp(-beta*H_local)\n",
    "    \n",
    "    g = np.zeros((2,2,2,2))\n",
    "    g[0,0,0,0] = 1.\n",
    "    g[1,1,1,1] = -1.\n",
    "\n",
    "    Qsr = scl.sqrtm(Q)\n",
    "\n",
    "    b = ncon([g,Qsr,Qsr,Qsr,Qsr],[[1,2,3,4],[-1,1],[-2,2],[3,-3],[4,-4]])\n",
    "    \n",
    "    return b\n",
    "\n",
    "b = isings2d(1,0.005)"
   ]
  },
  {
   "cell_type": "markdown",
   "metadata": {},
   "source": [
    "# h negative"
   ]
  },
  {
   "cell_type": "code",
   "execution_count": 23,
   "metadata": {
    "collapsed": true
   },
   "outputs": [],
   "source": [
    "h = -0.0001\n",
    "betas = np.linspace(0.01,1,20)\n",
    "results = []\n",
    "\n",
    "for beta in betas:\n",
    "    a = isingtpf2d(beta,h)\n",
    "    b = isings2d(beta,h)\n",
    "\n",
    "    for i in range(10):\n",
    "        b, a = coarse_graining_step(b,a,D=8)\n",
    "    \n",
    "    ap = ncon([a,a,a,a],[[7,5,3,1],[3,6,7,2],[8,1,4,5],[4,2,8,6]])\n",
    "    bp = ncon([b,a,a,a],[[7,5,3,1],[3,6,7,2],[8,1,4,5],[4,2,8,6]])\n",
    "    \n",
    "    results.append(bp/ap)"
   ]
  },
  {
   "cell_type": "code",
   "execution_count": 24,
   "metadata": {},
   "outputs": [
    {
     "data": {
      "image/png": "[encoded data removed]",
      "text/plain": [
       "<matplotlib.figure.Figure at 0x7f18497ce810>"
      ]
     },
     "metadata": {},
     "output_type": "display_data"
    }
   ],
   "source": [
    "plt.plot(betas,results)\n",
    "plt.show()"
   ]
  },
  {
   "cell_type": "code",
   "execution_count": 16,
   "metadata": {},
   "outputs": [
    {
     "name": "stdout",
     "output_type": "stream",
     "text": [
      "[[[[  7.32108310e+00   4.95400305e-01]\n",
      "   [  4.95400305e-01   3.39901780e-08]]\n",
      "\n",
      "  [[  4.95400305e-01   3.39901780e-08]\n",
      "   [  3.39901780e-08  -4.95399554e-01]]]\n",
      "\n",
      "\n",
      " [[[  4.95400305e-01   3.39901780e-08]\n",
      "   [  3.39901780e-08  -4.95399554e-01]]\n",
      "\n",
      "  [[  3.39901780e-08  -4.95399554e-01]\n",
      "   [ -4.95399554e-01  -7.32106839e+00]]]]\n",
      "[[[[  7.32106839e+00   4.95399554e-01]\n",
      "   [  4.95399554e-01  -3.39901780e-08]]\n",
      "\n",
      "  [[  4.95399554e-01  -3.39901780e-08]\n",
      "   [ -3.39901780e-08  -4.95400305e-01]]]\n",
      "\n",
      "\n",
      " [[[  4.95399554e-01  -3.39901780e-08]\n",
      "   [ -3.39901780e-08  -4.95400305e-01]]\n",
      "\n",
      "  [[ -3.39901780e-08  -4.95400305e-01]\n",
      "   [ -4.95400305e-01  -7.32108310e+00]]]]\n"
     ]
    }
   ],
   "source": [
    "aplus = isingtpf2d(beta,0.000001)\n",
    "bplus = isings2d(beta,0.000001)\n",
    "aminus = isingtpf2d(beta,-0.000001)\n",
    "bminus = isings2d(beta,-0.000001)\n",
    "\n",
    "print bplus\n",
    "print bminus"
   ]
  },
  {
   "cell_type": "markdown",
   "metadata": {
    "collapsed": true
   },
   "source": [
    "# h = 0"
   ]
  },
  {
   "cell_type": "code",
   "execution_count": 25,
   "metadata": {
    "collapsed": true
   },
   "outputs": [],
   "source": [
    "h = 0\n",
    "betas = np.linspace(0.01,1,20)\n",
    "results = []\n",
    "\n",
    "for beta in betas:\n",
    "    a = isingtpf2d(beta,h)\n",
    "    b = isings2d(beta,h)\n",
    "\n",
    "    for i in range(20):\n",
    "        b, a = coarse_graining_step(b,a,D=7)\n",
    "    \n",
    "    ap = ncon([a,a,a,a],[[7,5,3,1],[3,6,7,2],[8,1,4,5],[4,2,8,6]])\n",
    "    bp = ncon([b,a,a,a],[[7,5,3,1],[3,6,7,2],[8,1,4,5],[4,2,8,6]])\n",
    "    \n",
    "    results.append(bp/ap)"
   ]
  },
  {
   "cell_type": "code",
   "execution_count": 26,
   "metadata": {},
   "outputs": [
    {
     "data": {
      "image/png": "[encoded data removed]",
      "text/plain": [
       "<matplotlib.figure.Figure at 0x7f18497afd90>"
      ]
     },
     "metadata": {},
     "output_type": "display_data"
    }
   ],
   "source": [
    "plt.plot(betas,results)\n",
    "plt.show()"
   ]
  },
  {
   "cell_type": "markdown",
   "metadata": {},
   "source": [
    "# h positive"
   ]
  },
  {
   "cell_type": "code",
   "execution_count": 27,
   "metadata": {
    "collapsed": true
   },
   "outputs": [],
   "source": [
    "h = 0.00000001\n",
    "betas = np.linspace(0.01,1,20)\n",
    "results = []\n",
    "\n",
    "for beta in betas:\n",
    "    a = isingtpf2d(beta,h)\n",
    "    b = isings2d(beta,h)\n",
    "\n",
    "    for i in range(20):\n",
    "        b, a = coarse_graining_step(b,a,D=7)\n",
    "    \n",
    "    ap = ncon([a,a,a,a],[[7,5,3,1],[3,6,7,2],[8,1,4,5],[4,2,8,6]])\n",
    "    bp = ncon([b,a,a,a],[[7,5,3,1],[3,6,7,2],[8,1,4,5],[4,2,8,6]])\n",
    "    \n",
    "    results.append(bp/ap)"
   ]
  },
  {
   "cell_type": "code",
   "execution_count": 28,
   "metadata": {},
   "outputs": [
    {
     "data": {
      "image/png": "[encoded data removed]",
      "text/plain": [
       "<matplotlib.figure.Figure at 0x7f1849a06710>"
      ]
     },
     "metadata": {},
     "output_type": "display_data"
    }
   ],
   "source": [
    "plt.plot(betas,results)\n",
    "plt.axvline(x=0.44069,linestyle='--')\n",
    "plt.show()"
   ]
  },
  {
   "cell_type": "markdown",
   "metadata": {},
   "source": [
    "# -------------------"
   ]
  },
  {
   "cell_type": "code",
   "execution_count": 9,
   "metadata": {
    "collapsed": true
   },
   "outputs": [],
   "source": [
    "def isingtpf3d(beta,h):\n",
    "    H_local = np.array([[-1.-h/2,1.],[1.,-1.+h/2]]) #h is intended to be a small magnetic field to break symmetry\n",
    "    Q = np.exp(-beta*H_local)\n",
    "    \n",
    "    delta = np.zeros((2,2,2,2,2,2))\n",
    "    delta[0,0,0,0,0,0] = 1.\n",
    "    delta[1,1,1,1,1,1] = 1.\n",
    "\n",
    "    Qsr = scl.sqrtm(Q)\n",
    "\n",
    "    a = ncon([delta,Qsr,Qsr,Qsr,Qsr,Qsr,Qsr],[[1,2,3,4,5,6],[-1,1],[-2,2],[3,-3],[4,-4],[-5,5],[6,-6]])\n",
    "    \n",
    "    return a\n",
    "\n",
    "def isings3d(beta,h):\n",
    "    H_local = np.array([[-1.-h,1.],[1.,-1.+h]])\n",
    "    Q = np.exp(-beta*H_local)\n",
    "    \n",
    "    g = np.zeros((2,2,2,2,2,2))\n",
    "    g[0,0,0,0,0,0] = 1.\n",
    "    g[1,1,1,1,1,1] = -1.\n",
    "\n",
    "    Qsr = scl.sqrtm(Q)\n",
    "\n",
    "    b = ncon([g,Qsr,Qsr,Qsr,Qsr,Qsr,Qsr],[[1,2,3,4,5,6],[-1,1],[-2,2],[3,-3],[4,-4],[-5,5],[6,-6]])\n",
    "    \n",
    "    return b"
   ]
  },
  {
   "cell_type": "code",
   "execution_count": 14,
   "metadata": {},
   "outputs": [],
   "source": [
    "def coarse_graining_step_3D(b,a,D='infinity'):\n",
    "    \n",
    "    #z direction\n",
    "    A = ncon([a,a],[[-1,-3,-5,-7,1,-10],[-2,-4,-6,-8,-9,1]])\n",
    "    Uy, s, V = tensorsvd(A,[6,7],[0,1,2,3,4,5,8,9],D)\n",
    "    Ux, s, V = tensorsvd(A,[0,1],[2,3,4,5,6,7,8,9],D)\n",
    "    A = dncon([Ux,Uy,A,Uy,Ux],[[1,2,-1],[7,8,-4],[1,2,3,4,5,6,7,8,-5,-6],[3,4,-2],[5,6,-3]])\n",
    "    \n",
    "    B = dncon([b,a],[[-1,-3,-5,-7,1,-10],[-2,-4,-6,-8,-9,1]])    \n",
    "    B = dncon([Ux,Uy,B,Uy,Ux],[[1,2,-1],[7,8,-4],[1,2,3,4,5,6,7,8,-5,-6],[3,4,-2],[5,6,-3]])\n",
    "    \n",
    "    #y direction\n",
    "    AA = dncon([A,A],[[-1,-2,1,-6,-7,-8],[1,-3,-4,-5,-9,-10]])\n",
    "    Uz, s, V = tensorsvd(AA,[6,8],[0,1,2,3,4,5,7,9],D)\n",
    "    Ux, s, V = tensorsvd(AA,[1,2],[0,3,4,5,6,7,8,9],D) \n",
    "    AA = dncon([Uz,Ux,AA,Ux,Uz],[[5,7,-5],[1,2,-2],[-1,1,2,-3,3,4,5,6,7,8],[4,3,-4],[6,8,-6]])  \n",
    "    \n",
    "    BA = dncon([B,A],[[-1,-2,1,-6,-7,-8],[1,-3,-4,-5,-9,-10]])\n",
    "    BA = dncon([Uz,Ux,BA,Ux,Uz],[[5,7,-5],[1,2,-2],[-1,1,2,-3,3,4,5,6,7,8],[4,3,-4],[6,8,-6]])\n",
    "    \n",
    "    #x direction\n",
    "    \n",
    "    AAAA = dncon([AA,AA],[[-2,-3,-4,1,-7,-8],[-1,1,-5,-6,-9,-10]])\n",
    "    Uz, s, V = tensorsvd(AAAA,[6,8],[0,1,2,3,4,5,7,9],D)\n",
    "    Uy, s, V = tensorsvd(AAAA,[3,4],[0,1,2,5,6,7,8,9],D)\n",
    "    AAAA = dncon([Uz,Uy,AAAA,Uy,Uz],[[5,7,-5],[3,4,-3],[1,2,-2,3,4,-4,5,6,7,8],[2,1,-1],[6,8,-6]])\n",
    "                        \n",
    "    BAAA = dncon([BA,AA],[[-2,-3,-4,1,-7,-8],[-1,1,-5,-6,-9,-10]])\n",
    "    BAAA = dncon([Uz,Uy,BAAA,Uy,Uz],[[5,7,-5],[3,4,-3],[1,2,-2,3,4,-4,5,6,7,8],[2,1,-1],[6,8,-6]])\n",
    "    \n",
    "    maxAAAA = np.max(AAAA)\n",
    "    \n",
    "    BAAA = BAAA/maxAAAA #divides over largest value in the tensor\n",
    "    AAAA = AAAA/maxAAAA\n",
    "    \n",
    "        \n",
    "    return BAAA, AAAA, s, maxAAAA"
   ]
  },
  {
   "cell_type": "code",
   "execution_count": 15,
   "metadata": {},
   "outputs": [],
   "source": [
    "a = isingtpf3d(3.0,10**-8)"
   ]
  },
  {
   "cell_type": "code",
   "execution_count": 18,
   "metadata": {},
   "outputs": [],
   "source": [
    "AAAA, AAAA, s, maxAAAA = coarse_graining_step_3D(a,a)"
   ]
  },
  {
   "cell_type": "code",
   "execution_count": 19,
   "metadata": {},
   "outputs": [
    {
     "data": {
      "text/plain": [
       "(16, 16, 16, 16, 16, 16)"
      ]
     },
     "execution_count": 19,
     "metadata": {},
     "output_type": "execute_result"
    }
   ],
   "source": []
  },
  {
   "cell_type": "code",
   "execution_count": null,
   "metadata": {
    "collapsed": true
   },
   "outputs": [],
   "source": []
  }
 ],
 "metadata": {
  "kernelspec": {
   "display_name": "Python 2",
   "language": "python",
   "name": "python2"
  },
  "language_info": {
   "codemirror_mode": {
    "name": "ipython",
    "version": 2
   },
   "file_extension": ".py",
   "mimetype": "text/x-python",
   "name": "python",
   "nbconvert_exporter": "python",
   "pygments_lexer": "ipython2",
   "version": "2.7.13"
  }
 },
 "nbformat": 4,
 "nbformat_minor": 2
}
